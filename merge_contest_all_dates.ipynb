{
 "cells": [
  {
   "cell_type": "code",
   "execution_count": 1,
   "metadata": {},
   "outputs": [],
   "source": [
    "import pandas as pd\n",
    "from os import listdir\n",
    "from os.path import isfile, join\n",
    "import glob\n"
   ]
  },
  {
   "cell_type": "code",
   "execution_count": 2,
   "metadata": {},
   "outputs": [],
   "source": [
    "url_files = glob.glob(r\"C:\\Users\\nbzhy\\Projects\\99designs_scraping\\competition_data_20220118\\href*_difference.csv\")"
   ]
  },
  {
   "cell_type": "code",
   "execution_count": 5,
   "metadata": {},
   "outputs": [
    {
     "data": {
      "text/plain": [
       "['C:\\\\Users\\\\nbzhy\\\\Projects\\\\99designs_scraping\\\\competition_data_20220118\\\\href_2022-02-01_difference.csv',\n",
       " 'C:\\\\Users\\\\nbzhy\\\\Projects\\\\99designs_scraping\\\\competition_data_20220118\\\\href_2022-02-02_difference.csv',\n",
       " 'C:\\\\Users\\\\nbzhy\\\\Projects\\\\99designs_scraping\\\\competition_data_20220118\\\\href_2022-02-03_difference.csv',\n",
       " 'C:\\\\Users\\\\nbzhy\\\\Projects\\\\99designs_scraping\\\\competition_data_20220118\\\\href_2022-02-04_difference.csv',\n",
       " 'C:\\\\Users\\\\nbzhy\\\\Projects\\\\99designs_scraping\\\\competition_data_20220118\\\\href_2022-02-05_difference.csv',\n",
       " 'C:\\\\Users\\\\nbzhy\\\\Projects\\\\99designs_scraping\\\\competition_data_20220118\\\\href_2022-02-06_difference.csv',\n",
       " 'C:\\\\Users\\\\nbzhy\\\\Projects\\\\99designs_scraping\\\\competition_data_20220118\\\\href_2022-02-07_difference.csv',\n",
       " 'C:\\\\Users\\\\nbzhy\\\\Projects\\\\99designs_scraping\\\\competition_data_20220118\\\\href_2022-02-08_difference.csv',\n",
       " 'C:\\\\Users\\\\nbzhy\\\\Projects\\\\99designs_scraping\\\\competition_data_20220118\\\\href_2022-02-09_difference.csv',\n",
       " 'C:\\\\Users\\\\nbzhy\\\\Projects\\\\99designs_scraping\\\\competition_data_20220118\\\\href_2022-02-10_difference.csv',\n",
       " 'C:\\\\Users\\\\nbzhy\\\\Projects\\\\99designs_scraping\\\\competition_data_20220118\\\\href_2022-02-11_difference.csv',\n",
       " 'C:\\\\Users\\\\nbzhy\\\\Projects\\\\99designs_scraping\\\\competition_data_20220118\\\\href_2022-02-12_difference.csv',\n",
       " 'C:\\\\Users\\\\nbzhy\\\\Projects\\\\99designs_scraping\\\\competition_data_20220118\\\\href_2022-02-13_difference.csv',\n",
       " 'C:\\\\Users\\\\nbzhy\\\\Projects\\\\99designs_scraping\\\\competition_data_20220118\\\\href_2022-02-14_difference.csv',\n",
       " 'C:\\\\Users\\\\nbzhy\\\\Projects\\\\99designs_scraping\\\\competition_data_20220118\\\\href_2022-02-15_difference.csv',\n",
       " 'C:\\\\Users\\\\nbzhy\\\\Projects\\\\99designs_scraping\\\\competition_data_20220118\\\\href_2022-02-16_difference.csv',\n",
       " 'C:\\\\Users\\\\nbzhy\\\\Projects\\\\99designs_scraping\\\\competition_data_20220118\\\\href_2022-02-17_difference.csv',\n",
       " 'C:\\\\Users\\\\nbzhy\\\\Projects\\\\99designs_scraping\\\\competition_data_20220118\\\\href_2022-02-18_difference.csv',\n",
       " 'C:\\\\Users\\\\nbzhy\\\\Projects\\\\99designs_scraping\\\\competition_data_20220118\\\\href_2022-02-19_difference.csv',\n",
       " 'C:\\\\Users\\\\nbzhy\\\\Projects\\\\99designs_scraping\\\\competition_data_20220118\\\\href_2022-02-20_difference.csv',\n",
       " 'C:\\\\Users\\\\nbzhy\\\\Projects\\\\99designs_scraping\\\\competition_data_20220118\\\\href_2022-02-21_difference.csv',\n",
       " 'C:\\\\Users\\\\nbzhy\\\\Projects\\\\99designs_scraping\\\\competition_data_20220118\\\\href_2022-02-22_difference.csv',\n",
       " 'C:\\\\Users\\\\nbzhy\\\\Projects\\\\99designs_scraping\\\\competition_data_20220118\\\\href_2022-02-23_difference.csv',\n",
       " 'C:\\\\Users\\\\nbzhy\\\\Projects\\\\99designs_scraping\\\\competition_data_20220118\\\\href_2022-02-24_difference.csv',\n",
       " 'C:\\\\Users\\\\nbzhy\\\\Projects\\\\99designs_scraping\\\\competition_data_20220118\\\\href_2022-02-25_difference.csv',\n",
       " 'C:\\\\Users\\\\nbzhy\\\\Projects\\\\99designs_scraping\\\\competition_data_20220118\\\\href_2022-02-26_difference.csv',\n",
       " 'C:\\\\Users\\\\nbzhy\\\\Projects\\\\99designs_scraping\\\\competition_data_20220118\\\\href_2022-02-27_difference.csv',\n",
       " 'C:\\\\Users\\\\nbzhy\\\\Projects\\\\99designs_scraping\\\\competition_data_20220118\\\\href_2022-02-28_difference.csv']"
      ]
     },
     "execution_count": 5,
     "metadata": {},
     "output_type": "execute_result"
    }
   ],
   "source": [
    "url_files[12:-4]"
   ]
  },
  {
   "cell_type": "code",
   "execution_count": 6,
   "metadata": {},
   "outputs": [],
   "source": [
    "url_all = pd.DataFrame({})\n",
    "for file in url_files[12:-4]:\n",
    "    url = pd.read_csv(\"\" + file)\n",
    "    url_all = pd.concat([url_all, url])"
   ]
  },
  {
   "cell_type": "code",
   "execution_count": 7,
   "metadata": {},
   "outputs": [],
   "source": [
    "url_all.to_csv(\"url_2022-02-01-to-2022-02-28.csv\", index=False)"
   ]
  },
  {
   "cell_type": "code",
   "execution_count": 8,
   "metadata": {},
   "outputs": [
    {
     "data": {
      "text/plain": [
       "(1812, 3)"
      ]
     },
     "execution_count": 8,
     "metadata": {},
     "output_type": "execute_result"
    }
   ],
   "source": [
    "url_all.shape"
   ]
  },
  {
   "cell_type": "code",
   "execution_count": 9,
   "metadata": {},
   "outputs": [
    {
     "data": {
      "text/plain": [
       "['contest_data_merged_2022-02-01.csv',\n",
       " 'contest_data_merged_2022-02-02.csv',\n",
       " 'contest_data_merged_2022-02-03.csv',\n",
       " 'contest_data_merged_2022-02-04.csv',\n",
       " 'contest_data_merged_2022-02-05.csv',\n",
       " 'contest_data_merged_2022-02-06.csv',\n",
       " 'contest_data_merged_2022-02-07.csv',\n",
       " 'contest_data_merged_2022-02-08.csv',\n",
       " 'contest_data_merged_2022-02-09.csv',\n",
       " 'contest_data_merged_2022-02-10.csv',\n",
       " 'contest_data_merged_2022-02-11.csv',\n",
       " 'contest_data_merged_2022-02-12.csv',\n",
       " 'contest_data_merged_2022-02-13.csv',\n",
       " 'contest_data_merged_2022-02-14.csv',\n",
       " 'contest_data_merged_2022-02-15.csv',\n",
       " 'contest_data_merged_2022-02-16.csv',\n",
       " 'contest_data_merged_2022-02-17.csv',\n",
       " 'contest_data_merged_2022-02-18.csv',\n",
       " 'contest_data_merged_2022-02-19.csv',\n",
       " 'contest_data_merged_2022-02-20.csv',\n",
       " 'contest_data_merged_2022-02-21.csv',\n",
       " 'contest_data_merged_2022-02-22.csv',\n",
       " 'contest_data_merged_2022-02-23.csv',\n",
       " 'contest_data_merged_2022-02-24.csv',\n",
       " 'contest_data_merged_2022-02-25.csv',\n",
       " 'contest_data_merged_2022-02-26.csv',\n",
       " 'contest_data_merged_2022-02-27.csv',\n",
       " 'contest_data_merged_2022-02-28.csv']"
      ]
     },
     "execution_count": 9,
     "metadata": {},
     "output_type": "execute_result"
    }
   ],
   "source": [
    "mypath = \"out\"\n",
    "files = [f for f in listdir(mypath) if isfile(join(mypath, f))]\n",
    "files[:]"
   ]
  },
  {
   "cell_type": "code",
   "execution_count": 10,
   "metadata": {},
   "outputs": [],
   "source": [
    "df_out = pd.DataFrame()\n",
    "for file in files[:]:\n",
    "    df_contest = pd.read_csv(\"out/\" + file)\n",
    "    df_out = pd.concat([df_out, df_contest])"
   ]
  },
  {
   "cell_type": "code",
   "execution_count": 11,
   "metadata": {},
   "outputs": [
    {
     "data": {
      "text/plain": [
       "(1785, 33)"
      ]
     },
     "execution_count": 11,
     "metadata": {},
     "output_type": "execute_result"
    }
   ],
   "source": [
    "df_out.shape"
   ]
  },
  {
   "cell_type": "code",
   "execution_count": 12,
   "metadata": {},
   "outputs": [],
   "source": [
    "df_out.to_csv(\"contest_data-2022-02-01-to-2022-02-28.csv\", index=False)"
   ]
  },
  {
   "cell_type": "code",
   "execution_count": 16,
   "metadata": {},
   "outputs": [],
   "source": [
    "user_profiles_files = glob.glob(r\"C:\\Users\\nbzhy\\Projects\\99designs_scraping\\competition_data_20220118\\user*.csv\")"
   ]
  },
  {
   "cell_type": "code",
   "execution_count": 36,
   "metadata": {},
   "outputs": [
    {
     "data": {
      "text/plain": [
       "['C:\\\\Users\\\\nbzhy\\\\Projects\\\\99designs_scraping\\\\competition_data_20220118\\\\user_profile_2022-01-21.csv',\n",
       " 'C:\\\\Users\\\\nbzhy\\\\Projects\\\\99designs_scraping\\\\competition_data_20220118\\\\user_profile_2022-01-22.csv',\n",
       " 'C:\\\\Users\\\\nbzhy\\\\Projects\\\\99designs_scraping\\\\competition_data_20220118\\\\user_profile_2022-01-23.csv',\n",
       " 'C:\\\\Users\\\\nbzhy\\\\Projects\\\\99designs_scraping\\\\competition_data_20220118\\\\user_profile_2022-01-24.csv',\n",
       " 'C:\\\\Users\\\\nbzhy\\\\Projects\\\\99designs_scraping\\\\competition_data_20220118\\\\user_profile_2022-01-25.csv',\n",
       " 'C:\\\\Users\\\\nbzhy\\\\Projects\\\\99designs_scraping\\\\competition_data_20220118\\\\user_profile_2022-01-26.csv',\n",
       " 'C:\\\\Users\\\\nbzhy\\\\Projects\\\\99designs_scraping\\\\competition_data_20220118\\\\user_profile_2022-01-27.csv',\n",
       " 'C:\\\\Users\\\\nbzhy\\\\Projects\\\\99designs_scraping\\\\competition_data_20220118\\\\user_profile_2022-01-28.csv',\n",
       " 'C:\\\\Users\\\\nbzhy\\\\Projects\\\\99designs_scraping\\\\competition_data_20220118\\\\user_profile_2022-01-29.csv',\n",
       " 'C:\\\\Users\\\\nbzhy\\\\Projects\\\\99designs_scraping\\\\competition_data_20220118\\\\user_profile_2022-01-30.csv',\n",
       " 'C:\\\\Users\\\\nbzhy\\\\Projects\\\\99designs_scraping\\\\competition_data_20220118\\\\user_profile_2022-01-31.csv']"
      ]
     },
     "execution_count": 36,
     "metadata": {},
     "output_type": "execute_result"
    }
   ],
   "source": [
    "user_profiles_files[3:14]"
   ]
  },
  {
   "cell_type": "code",
   "execution_count": 37,
   "metadata": {},
   "outputs": [],
   "source": [
    "df_profile_out = pd.DataFrame()\n",
    "for file in user_profiles_files[3:14]:\n",
    "    df_profile = pd.read_csv(file)\n",
    "    df_profile_out = pd.concat([df_profile_out, df_profile])"
   ]
  },
  {
   "cell_type": "code",
   "execution_count": 38,
   "metadata": {},
   "outputs": [
    {
     "data": {
      "text/html": [
       "<div>\n",
       "<style scoped>\n",
       "    .dataframe tbody tr th:only-of-type {\n",
       "        vertical-align: middle;\n",
       "    }\n",
       "\n",
       "    .dataframe tbody tr th {\n",
       "        vertical-align: top;\n",
       "    }\n",
       "\n",
       "    .dataframe thead th {\n",
       "        text-align: right;\n",
       "    }\n",
       "</style>\n",
       "<table border=\"1\" class=\"dataframe\">\n",
       "  <thead>\n",
       "    <tr style=\"text-align: right;\">\n",
       "      <th></th>\n",
       "      <th>user_id</th>\n",
       "      <th>user_name</th>\n",
       "      <th>about</th>\n",
       "      <th>stars</th>\n",
       "      <th>review_count</th>\n",
       "      <th>member_since</th>\n",
       "      <th>contests_won</th>\n",
       "      <th>runner_up</th>\n",
       "      <th>1_to_1_projects</th>\n",
       "      <th>tags</th>\n",
       "      <th>repeat_clients</th>\n",
       "      <th>reviews</th>\n",
       "      <th>certification</th>\n",
       "      <th>timestamp</th>\n",
       "    </tr>\n",
       "  </thead>\n",
       "  <tbody>\n",
       "    <tr>\n",
       "      <th>0</th>\n",
       "      <td>422944</td>\n",
       "      <td>mylogoart</td>\n",
       "      <td>freelance graphic designer</td>\n",
       "      <td>5.0</td>\n",
       "      <td>11</td>\n",
       "      <td>May 19, 2010</td>\n",
       "      <td>32</td>\n",
       "      <td>120</td>\n",
       "      <td>2</td>\n",
       "      <td>['Logo design', 'Logo &amp; brand identity pack', ...</td>\n",
       "      <td>2</td>\n",
       "      <td>['Es wurde immer rasch und genau auf meine Wün...</td>\n",
       "      <td>['Entry Level']</td>\n",
       "      <td>2022-01-21</td>\n",
       "    </tr>\n",
       "    <tr>\n",
       "      <th>1</th>\n",
       "      <td>1653638</td>\n",
       "      <td>more-d</td>\n",
       "      <td>Clean and Simple design</td>\n",
       "      <td>4.8</td>\n",
       "      <td>10</td>\n",
       "      <td>June 17, 2014</td>\n",
       "      <td>17</td>\n",
       "      <td>40</td>\n",
       "      <td>0</td>\n",
       "      <td>['Logo design', 'Social media page', 'Logo &amp; s...</td>\n",
       "      <td>1</td>\n",
       "      <td>['Great work! Design was simple and to the poi...</td>\n",
       "      <td>['Mid Level']</td>\n",
       "      <td>2022-01-21</td>\n",
       "    </tr>\n",
       "    <tr>\n",
       "      <th>2</th>\n",
       "      <td>2214219</td>\n",
       "      <td>hidden meanings</td>\n",
       "      <td>every logo has story to tell</td>\n",
       "      <td>5.0</td>\n",
       "      <td>64</td>\n",
       "      <td>November 21, 2015</td>\n",
       "      <td>99</td>\n",
       "      <td>231</td>\n",
       "      <td>6</td>\n",
       "      <td>['Logo design', 'Logo &amp; brand identity pack', ...</td>\n",
       "      <td>8</td>\n",
       "      <td>['The designer listened to feedback, was quick...</td>\n",
       "      <td>['Print', 'Brand guide', 'Mid Level']</td>\n",
       "      <td>2022-01-21</td>\n",
       "    </tr>\n",
       "    <tr>\n",
       "      <th>3</th>\n",
       "      <td>4604193</td>\n",
       "      <td>Nicholas Crasta</td>\n",
       "      <td>A talented forward looking visual designer who...</td>\n",
       "      <td>5.0</td>\n",
       "      <td>6</td>\n",
       "      <td>March 29, 2021</td>\n",
       "      <td>11</td>\n",
       "      <td>15</td>\n",
       "      <td>0</td>\n",
       "      <td>['Logo design', 'Book cover', 'Logo &amp; brand gu...</td>\n",
       "      <td>0</td>\n",
       "      <td>['Strong designer and did solid work.  I would...</td>\n",
       "      <td>['Mid Level']</td>\n",
       "      <td>2022-01-21</td>\n",
       "    </tr>\n",
       "    <tr>\n",
       "      <th>4</th>\n",
       "      <td>1654167</td>\n",
       "      <td>Muhammad Rizky Kaira</td>\n",
       "      <td>R meaning is initial of Rezeki,Records, and my...</td>\n",
       "      <td>5.0</td>\n",
       "      <td>6</td>\n",
       "      <td>June 18, 2014</td>\n",
       "      <td>10</td>\n",
       "      <td>21</td>\n",
       "      <td>1</td>\n",
       "      <td>['Logo design', 'Logo &amp; brand guide', 'T-shirt']</td>\n",
       "      <td>1</td>\n",
       "      <td>['Great work on this logo!!', 'Great job will ...</td>\n",
       "      <td>['Mid Level']</td>\n",
       "      <td>2022-01-21</td>\n",
       "    </tr>\n",
       "  </tbody>\n",
       "</table>\n",
       "</div>"
      ],
      "text/plain": [
       "   user_id             user_name  \\\n",
       "0   422944             mylogoart   \n",
       "1  1653638                more-d   \n",
       "2  2214219       hidden meanings   \n",
       "3  4604193       Nicholas Crasta   \n",
       "4  1654167  Muhammad Rizky Kaira   \n",
       "\n",
       "                                               about  stars  review_count  \\\n",
       "0                         freelance graphic designer    5.0            11   \n",
       "1                            Clean and Simple design    4.8            10   \n",
       "2                       every logo has story to tell    5.0            64   \n",
       "3  A talented forward looking visual designer who...    5.0             6   \n",
       "4  R meaning is initial of Rezeki,Records, and my...    5.0             6   \n",
       "\n",
       "        member_since  contests_won  runner_up  1_to_1_projects  \\\n",
       "0       May 19, 2010            32        120                2   \n",
       "1      June 17, 2014            17         40                0   \n",
       "2  November 21, 2015            99        231                6   \n",
       "3     March 29, 2021            11         15                0   \n",
       "4      June 18, 2014            10         21                1   \n",
       "\n",
       "                                                tags  repeat_clients  \\\n",
       "0  ['Logo design', 'Logo & brand identity pack', ...               2   \n",
       "1  ['Logo design', 'Social media page', 'Logo & s...               1   \n",
       "2  ['Logo design', 'Logo & brand identity pack', ...               8   \n",
       "3  ['Logo design', 'Book cover', 'Logo & brand gu...               0   \n",
       "4   ['Logo design', 'Logo & brand guide', 'T-shirt']               1   \n",
       "\n",
       "                                             reviews  \\\n",
       "0  ['Es wurde immer rasch und genau auf meine Wün...   \n",
       "1  ['Great work! Design was simple and to the poi...   \n",
       "2  ['The designer listened to feedback, was quick...   \n",
       "3  ['Strong designer and did solid work.  I would...   \n",
       "4  ['Great work on this logo!!', 'Great job will ...   \n",
       "\n",
       "                           certification   timestamp  \n",
       "0                        ['Entry Level']  2022-01-21  \n",
       "1                          ['Mid Level']  2022-01-21  \n",
       "2  ['Print', 'Brand guide', 'Mid Level']  2022-01-21  \n",
       "3                          ['Mid Level']  2022-01-21  \n",
       "4                          ['Mid Level']  2022-01-21  "
      ]
     },
     "execution_count": 38,
     "metadata": {},
     "output_type": "execute_result"
    }
   ],
   "source": [
    "df_profile_out.head()"
   ]
  },
  {
   "cell_type": "code",
   "execution_count": 39,
   "metadata": {},
   "outputs": [],
   "source": [
    "df_profile_out.to_csv(\"user_profile-2022-01-21-to-2022-01-31.csv\", index=False)"
   ]
  },
  {
   "cell_type": "code",
   "execution_count": null,
   "metadata": {},
   "outputs": [],
   "source": []
  }
 ],
 "metadata": {
  "interpreter": {
   "hash": "5af03e6f6884cdcbf495aa98cbd8d63d5d0ed05506dbd026ba0a4981213ae30b"
  },
  "kernelspec": {
   "display_name": "Python 3.8.8 64-bit ('base': conda)",
   "language": "python",
   "name": "python3"
  },
  "language_info": {
   "codemirror_mode": {
    "name": "ipython",
    "version": 3
   },
   "file_extension": ".py",
   "mimetype": "text/x-python",
   "name": "python",
   "nbconvert_exporter": "python",
   "pygments_lexer": "ipython3",
   "version": "3.8.8"
  },
  "orig_nbformat": 4
 },
 "nbformat": 4,
 "nbformat_minor": 2
}
