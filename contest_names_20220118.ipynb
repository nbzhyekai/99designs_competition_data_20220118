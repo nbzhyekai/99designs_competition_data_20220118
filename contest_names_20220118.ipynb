{
 "cells": [
  {
   "cell_type": "markdown",
   "metadata": {},
   "source": [
    "## scrape links for contest"
   ]
  },
  {
   "cell_type": "code",
   "execution_count": 1,
   "metadata": {},
   "outputs": [],
   "source": [
    "import requests\n",
    "from bs4 import BeautifulSoup\n",
    "import re\n",
    "import json\n",
    "from datetime import datetime\n",
    "import pandas as pd\n",
    "from selenium import webdriver\n",
    "from selenium.webdriver.common.by import By\n",
    "from tqdm import tqdm\n",
    "import warnings\n",
    "warnings.filterwarnings('ignore')"
   ]
  },
  {
   "cell_type": "code",
   "execution_count": 2,
   "metadata": {},
   "outputs": [],
   "source": [
    "PATH = \"C:\\Program Files (x86)\\chromedriver.exe\" "
   ]
  },
  {
   "cell_type": "code",
   "execution_count": 3,
   "metadata": {},
   "outputs": [],
   "source": [
    "def get_tags(page_number): \n",
    "\n",
    "    tags = []\n",
    "\n",
    "    if page_number == 1:\n",
    "        url = \"https://99designs.hk/logo-design/contests?sort=start-date%3Adesc&status=won&entry-level=0&mid-level=0&top-level=0&dir=desc&order=start-date\"\n",
    "    else:\n",
    "        url = \"https://99designs.hk/logo-design/contests?sort=start-date%3Adesc&status=won&entry-level=0&mid-level=0&top-level=0&page=\" + str(page_number) + \"&dir=desc&order=start-date\"\n",
    "\n",
    "    driver = webdriver.Chrome(PATH)\n",
    "    driver.get(url)\n",
    "\n",
    "    for i in range(30):\n",
    "        index = i + 1 \n",
    "        xml_path = '/html/body/div[1]/div[1]/div[4]/div/div/div[3]/div/div/div[1]/div['+str(index)+']/div/div[2]/div/div[1]/div[2]'\n",
    "        tag = driver.find_element(By.XPATH, xml_path).text\n",
    "        # print(tags)\n",
    "        tags.append(tag)\n",
    "\n",
    "    driver.close()\n",
    "    return tags"
   ]
  },
  {
   "cell_type": "code",
   "execution_count": 4,
   "metadata": {},
   "outputs": [],
   "source": [
    "def make_soup(page_number):\n",
    "\n",
    "    kv = {'user-agent': 'Mozilla/5.0'}\n",
    "    if page_number == 1:\n",
    "        url = \"https://99designs.hk/logo-design/contests?sort=start-date%3Adesc&status=won&entry-level=0&mid-level=0&top-level=0&dir=desc&order=start-date\"\n",
    "    else:\n",
    "        url = \"https://99designs.hk/logo-design/contests?sort=start-date%3Adesc&status=won&entry-level=0&mid-level=0&top-level=0&page=\" + str(page_number) + \"&dir=desc&order=start-date\"\n",
    "    r = requests.get(url, headers=kv, timeout=30)\n",
    "    r.raise_for_status()\n",
    "    r.status_code\n",
    "    r.encoding = r.apparent_encoding\n",
    "    soup = BeautifulSoup(r.text, 'html.parser')\n",
    "    return soup"
   ]
  },
  {
   "cell_type": "code",
   "execution_count": 5,
   "metadata": {},
   "outputs": [],
   "source": [
    "def get_urls(page_number):\n",
    "    \n",
    "    href = []\n",
    "    tags = []\n",
    "    for i in tqdm(range(page_number)):\n",
    "        # get url\n",
    "        soup = make_soup(i)\n",
    "        results = soup.findAll(name='a', attrs='listing-details__title__link')\n",
    "        for result in results:\n",
    "            href.append('https://99designs.hk'+result['href'])\n",
    "\n",
    "    \n",
    "        # get tags\n",
    "        tag_one_page = get_tags(i)\n",
    "        tags += tag_one_page\n",
    "        \n",
    "\n",
    "    \n",
    "    df_href = pd.DataFrame({'href': href, 'tags': tags})\n",
    "    df_href.to_csv('href_' + str(datetime.now().date()) + '.csv', index=False)"
   ]
  },
  {
   "cell_type": "code",
   "execution_count": 6,
   "metadata": {},
   "outputs": [
    {
     "name": "stderr",
     "output_type": "stream",
     "text": [
      "100%|██████████| 20/20 [21:36<00:00, 64.84s/it]\n"
     ]
    }
   ],
   "source": [
    "get_urls(20)\n"
   ]
  },
  {
   "cell_type": "code",
   "execution_count": null,
   "metadata": {},
   "outputs": [],
   "source": []
  }
 ],
 "metadata": {
  "interpreter": {
   "hash": "5af03e6f6884cdcbf495aa98cbd8d63d5d0ed05506dbd026ba0a4981213ae30b"
  },
  "kernelspec": {
   "display_name": "Python 3.8.8 64-bit ('base': conda)",
   "name": "python3"
  },
  "language_info": {
   "codemirror_mode": {
    "name": "ipython",
    "version": 3
   },
   "file_extension": ".py",
   "mimetype": "text/x-python",
   "name": "python",
   "nbconvert_exporter": "python",
   "pygments_lexer": "ipython3",
   "version": "3.8.8"
  },
  "orig_nbformat": 4
 },
 "nbformat": 4,
 "nbformat_minor": 2
}
